{
 "cells": [
  {
   "cell_type": "code",
   "execution_count": 4,
   "metadata": {},
   "outputs": [
    {
     "name": "stderr",
     "output_type": "stream",
     "text": [
      "/usr/lib/python3/dist-packages/pkg_resources/__init__.py:116: PkgResourcesDeprecationWarning: 1.16.0-unknown is an invalid version and will not be supported in a future release\n",
      "  warnings.warn(\n",
      "/usr/lib/python3/dist-packages/pkg_resources/__init__.py:116: PkgResourcesDeprecationWarning: 0.1.43ubuntu1 is an invalid version and will not be supported in a future release\n",
      "  warnings.warn(\n",
      "/usr/lib/python3/dist-packages/pkg_resources/__init__.py:116: PkgResourcesDeprecationWarning: 1.1build1 is an invalid version and will not be supported in a future release\n",
      "  warnings.warn(\n"
     ]
    }
   ],
   "source": [
    "import pandas as pd\n",
    "import matplotlib.pyplot as plt\n",
    "import numpy as np\n",
    "import seaborn as sns\n",
    "from sklearn.preprocessing import LabelEncoder\n",
    "from sklearn.preprocessing import StandardScaler\n",
    "from sklearn.model_selection import train_test_split, StratifiedKFold\n",
    "from sklearn.metrics import accuracy_score\n",
    "from sklearn.ensemble import GradientBoostingClassifier\n",
    "from sklearn.linear_model import LogisticRegression\n",
    "import xgboost as xgb\n"
   ]
  },
  {
   "cell_type": "code",
   "execution_count": 5,
   "metadata": {},
   "outputs": [],
   "source": [
    "data = pd.read_csv('Copy of Online Payment Fraud Detection.csv')"
   ]
  },
  {
   "cell_type": "code",
   "execution_count": 6,
   "metadata": {},
   "outputs": [],
   "source": [
    "folds = StratifiedKFold(n_splits=10, random_state=42,shuffle=True) # cross validation algo to avoid data bias"
   ]
  },
  {
   "cell_type": "code",
   "execution_count": 7,
   "metadata": {},
   "outputs": [
    {
     "data": {
      "text/html": [
       "<div>\n",
       "<style scoped>\n",
       "    .dataframe tbody tr th:only-of-type {\n",
       "        vertical-align: middle;\n",
       "    }\n",
       "\n",
       "    .dataframe tbody tr th {\n",
       "        vertical-align: top;\n",
       "    }\n",
       "\n",
       "    .dataframe thead th {\n",
       "        text-align: right;\n",
       "    }\n",
       "</style>\n",
       "<table border=\"1\" class=\"dataframe\">\n",
       "  <thead>\n",
       "    <tr style=\"text-align: right;\">\n",
       "      <th></th>\n",
       "      <th>step</th>\n",
       "      <th>type</th>\n",
       "      <th>amount</th>\n",
       "      <th>nameOrig</th>\n",
       "      <th>oldbalanceOrg</th>\n",
       "      <th>newbalanceOrig</th>\n",
       "      <th>nameDest</th>\n",
       "      <th>oldbalanceDest</th>\n",
       "      <th>newbalanceDest</th>\n",
       "      <th>isFraud</th>\n",
       "    </tr>\n",
       "  </thead>\n",
       "  <tbody>\n",
       "    <tr>\n",
       "      <th>0</th>\n",
       "      <td>1</td>\n",
       "      <td>PAYMENT</td>\n",
       "      <td>9839.64</td>\n",
       "      <td>C1231006815</td>\n",
       "      <td>170136.0</td>\n",
       "      <td>160296.36</td>\n",
       "      <td>M1979787155</td>\n",
       "      <td>0.0</td>\n",
       "      <td>0.0</td>\n",
       "      <td>0</td>\n",
       "    </tr>\n",
       "    <tr>\n",
       "      <th>1</th>\n",
       "      <td>1</td>\n",
       "      <td>PAYMENT</td>\n",
       "      <td>1864.28</td>\n",
       "      <td>C1666544295</td>\n",
       "      <td>21249.0</td>\n",
       "      <td>19384.72</td>\n",
       "      <td>M2044282225</td>\n",
       "      <td>0.0</td>\n",
       "      <td>0.0</td>\n",
       "      <td>0</td>\n",
       "    </tr>\n",
       "    <tr>\n",
       "      <th>2</th>\n",
       "      <td>1</td>\n",
       "      <td>TRANSFER</td>\n",
       "      <td>181.00</td>\n",
       "      <td>C1305486145</td>\n",
       "      <td>181.0</td>\n",
       "      <td>0.00</td>\n",
       "      <td>C553264065</td>\n",
       "      <td>0.0</td>\n",
       "      <td>0.0</td>\n",
       "      <td>1</td>\n",
       "    </tr>\n",
       "    <tr>\n",
       "      <th>3</th>\n",
       "      <td>1</td>\n",
       "      <td>CASH_OUT</td>\n",
       "      <td>181.00</td>\n",
       "      <td>C840083671</td>\n",
       "      <td>181.0</td>\n",
       "      <td>0.00</td>\n",
       "      <td>C38997010</td>\n",
       "      <td>21182.0</td>\n",
       "      <td>0.0</td>\n",
       "      <td>1</td>\n",
       "    </tr>\n",
       "    <tr>\n",
       "      <th>4</th>\n",
       "      <td>1</td>\n",
       "      <td>PAYMENT</td>\n",
       "      <td>11668.14</td>\n",
       "      <td>C2048537720</td>\n",
       "      <td>41554.0</td>\n",
       "      <td>29885.86</td>\n",
       "      <td>M1230701703</td>\n",
       "      <td>0.0</td>\n",
       "      <td>0.0</td>\n",
       "      <td>0</td>\n",
       "    </tr>\n",
       "  </tbody>\n",
       "</table>\n",
       "</div>"
      ],
      "text/plain": [
       "   step      type    amount     nameOrig  oldbalanceOrg  newbalanceOrig  \\\n",
       "0     1   PAYMENT   9839.64  C1231006815       170136.0       160296.36   \n",
       "1     1   PAYMENT   1864.28  C1666544295        21249.0        19384.72   \n",
       "2     1  TRANSFER    181.00  C1305486145          181.0            0.00   \n",
       "3     1  CASH_OUT    181.00   C840083671          181.0            0.00   \n",
       "4     1   PAYMENT  11668.14  C2048537720        41554.0        29885.86   \n",
       "\n",
       "      nameDest  oldbalanceDest  newbalanceDest  isFraud  \n",
       "0  M1979787155             0.0             0.0        0  \n",
       "1  M2044282225             0.0             0.0        0  \n",
       "2   C553264065             0.0             0.0        1  \n",
       "3    C38997010         21182.0             0.0        1  \n",
       "4  M1230701703             0.0             0.0        0  "
      ]
     },
     "execution_count": 7,
     "metadata": {},
     "output_type": "execute_result"
    }
   ],
   "source": [
    "data.head()"
   ]
  },
  {
   "cell_type": "code",
   "execution_count": 8,
   "metadata": {},
   "outputs": [],
   "source": [
    "class DataProcessing():\n",
    "    \"\"\"\n",
    "        This a python class for handling Data and modelling stuffs\n",
    "        varieties of methods available to call on the class's object to perform certain tasks\n",
    "        arguments: data (Pd.DataFrame)\n",
    "    \"\"\"\n",
    "    def __init__(self,df):\n",
    "        self.df = df\n",
    "    def heat_map(self):\n",
    "        \"\"\"\n",
    "        This method print the heat map of the data showing null value magnitudes \n",
    "        \"\"\"\n",
    "        plt.figure(figsize=(15,15))\n",
    "        sns.heatmap(self.df.isnull())\n",
    "    def info(self):\n",
    "        \"\"\"\n",
    "        this method prints\n",
    "        \"\"\"\n",
    "        return self.df.info()\n",
    "    def print_uniques(self, col_name):\n",
    "        \"\"\"\"\n",
    "        prints the unique strings of this column\n",
    "        \"\"\"\n",
    "        if type(col_name) == list:\n",
    "            for col in col_name:\n",
    "                print(self.df[col].unique())\n",
    "        else:\n",
    "            print(self.df[col_name].unique())\n",
    "    def corr(self):\n",
    "        \"\"\"\n",
    "        displays the correlation heat map of the features\n",
    "        \"\"\"\n",
    "        plt.figure(figsize=(15,15))\n",
    "        sns.heatmap(self.df.corr())\n",
    "        \n",
    "    def encoder(self, columns):\n",
    "        \"\"\"\n",
    "        this is to encode ordinal, normial or categorical data\n",
    "        \"\"\"\n",
    "        le = LabelEncoder()\n",
    "        for col in columns:\n",
    "            self.df[col] = le.fit_transform(self.df[col])\n",
    "        print('Encoding done')\n",
    "\n",
    "    def onehot_encode(self, features):\n",
    "        \"\"\"\n",
    "        oneHot encoding method\n",
    "        parameters:\n",
    "            features:List\n",
    "        \"\"\"\n",
    "        self.df = pd.get_dummies(self.df, prefix_sep='_', columns=features)\n",
    "        print('OneHot done')\n",
    "\n",
    "    def scaler(self, columns):\n",
    "        \"\"\"\n",
    "        this method scales the data in a particular column using the standard scaler algorithm\n",
    "        parameters:\n",
    "            columns: List\n",
    "        \"\"\"\n",
    "        sc = StandardScaler()\n",
    "        for col in columns:\n",
    "            self.df[col] = sc.fit_transform(np.array(self.df[col])).reshape(-1,1)\n",
    "        print('Done scaling')\n",
    "                 \n",
    "    def stat(self,column):\n",
    "\n",
    "        \"\"\"\n",
    "        basic statistics of columns\n",
    "        parameters:\n",
    "            column: String\n",
    "        \"\"\"\n",
    "\n",
    "        stat_dict = {}\n",
    "        stat_dict['max'] = 'nil'\n",
    "        stat_dict['min'] = 'nil'\n",
    "        stat_dict['mean'] = 'nil'\n",
    "        stat_dict['median'] = 'nil'\n",
    "        stat_dict['mode'] = 'nil'\n",
    "        stat_dict['col_name'] = column\n",
    "\n",
    "        stat_dict['mean'] = self.df[column].mean()\n",
    "        stat_dict['median'] = self.df[column].median()\n",
    "        stat_dict['mode'] = self.df[column].mode()[0]\n",
    "        stat_dict['max'] = self.df[column].max()\n",
    "        stat_dict['min'] = self.df[column].min()\n",
    "\n",
    "        return stat_dict\n",
    "\n",
    "    def split_data(self, train_thres=0.5):\n",
    "        \"\"\"\n",
    "        for splitting data into train and test set\n",
    "        parameter:\n",
    "            train_tres:Default=-.5 : float\n",
    "        \"\"\"\n",
    "        if train_thres >= 0.5 and train_thres <= 1.0:\n",
    "            train_length = round(len(self.df) * train_thres)\n",
    "            # test_length = len(self.df) - train_length\n",
    "\n",
    "            train = self.df[:train_length]\n",
    "            test = self.df[train_length:]\n",
    "\n",
    "            train_y = train['isFraud']\n",
    "            train_x = train.drop('isFraud',1)\n",
    "\n",
    "            self.train_y = train_y\n",
    "            self.train_x = train_x\n",
    "\n",
    "            test_y = test['isFraud']\n",
    "            test_x = test.drop('isFraud',1)\n",
    "\n",
    "            self.test_x = test_x\n",
    "            self.test_y = test_y\n",
    "        else:\n",
    "            print('Invalid threshold')\n",
    "    \n",
    "    def data(self, data_type='train'):\n",
    "        \"\"\"\n",
    "        to get data, i.e train, test\n",
    "        parameter:\n",
    "            data_type: string : train || test\n",
    "        \"\"\"\n",
    "        if data_type == 'test':\n",
    "            return self.test_x,self.test_y\n",
    "        if data_type == 'train':\n",
    "            return self.train_x, self.train_y\n",
    "\n",
    "    # def trainer(self,x,y,model):\n",
    "    #     \"\"\"\n",
    "    #         this is the power method for trainning the model\n",
    "    #         parameters:\n",
    "    #             x: independent features: Pd.Series || List || Pd.DataFrame\n",
    "    #             y: dependent variable: Pd.Series || List\n",
    "    #             model: training algorithm : Object\n",
    "    #     \"\"\"\n",
    "    #     model_score = []\n",
    "    #     for train_index, test_index in folds.split(x,y):\n",
    "    #         start = time.time()\n",
    "    #         x_train,x_test,y_train,y_test = x[train_index], x[test_index], y[train_index], y[test_index]\n",
    "        \n",
    "    #         model_score.append(np.sqrt(train_score(xgb_regressor, x_train,x_test,y_train,y_test)))\n",
    "        \n",
    "    #         # prediction = xgb_regressor.predict(testing_data[fet].values)\n",
    "        \n",
    "    #     pass"
   ]
  },
  {
   "cell_type": "code",
   "execution_count": 9,
   "metadata": {},
   "outputs": [],
   "source": [
    "dp = DataProcessing(data)"
   ]
  },
  {
   "cell_type": "code",
   "execution_count": 10,
   "metadata": {},
   "outputs": [
    {
     "name": "stdout",
     "output_type": "stream",
     "text": [
      "<class 'pandas.core.frame.DataFrame'>\n",
      "RangeIndex: 1048575 entries, 0 to 1048574\n",
      "Data columns (total 10 columns):\n",
      " #   Column          Non-Null Count    Dtype  \n",
      "---  ------          --------------    -----  \n",
      " 0   step            1048575 non-null  int64  \n",
      " 1   type            1048575 non-null  object \n",
      " 2   amount          1048575 non-null  float64\n",
      " 3   nameOrig        1048575 non-null  object \n",
      " 4   oldbalanceOrg   1048575 non-null  float64\n",
      " 5   newbalanceOrig  1048575 non-null  float64\n",
      " 6   nameDest        1048575 non-null  object \n",
      " 7   oldbalanceDest  1048575 non-null  float64\n",
      " 8   newbalanceDest  1048575 non-null  float64\n",
      " 9   isFraud         1048575 non-null  int64  \n",
      "dtypes: float64(5), int64(2), object(3)\n",
      "memory usage: 80.0+ MB\n"
     ]
    }
   ],
   "source": [
    "dp.info()"
   ]
  },
  {
   "cell_type": "code",
   "execution_count": 11,
   "metadata": {},
   "outputs": [
    {
     "data": {
      "image/png": "[encoded data removed]",
      "text/plain": [
       "<Figure size 1080x1080 with 2 Axes>"
      ]
     },
     "metadata": {
      "needs_background": "light"
     },
     "output_type": "display_data"
    }
   ],
   "source": [
    "dp.heat_map()"
   ]
  },
  {
   "cell_type": "code",
   "execution_count": 12,
   "metadata": {},
   "outputs": [
    {
     "name": "stdout",
     "output_type": "stream",
     "text": [
      "['step', 'type', 'amount', 'nameOrig', 'oldbalanceOrg', 'newbalanceOrig', 'nameDest', 'oldbalanceDest', 'newbalanceDest', 'isFraud'] \n",
      "\n"
     ]
    }
   ],
   "source": [
    "print(dp.df.columns.to_list(), '\\n')"
   ]
  },
  {
   "cell_type": "code",
   "execution_count": 13,
   "metadata": {},
   "outputs": [
    {
     "data": {
      "text/plain": [
       "<AxesSubplot:ylabel='Frequency'>"
      ]
     },
     "execution_count": 13,
     "metadata": {},
     "output_type": "execute_result"
    },
    {
     "data": {
      "image/png": "[encoded data removed]",
      "text/plain": [
       "<Figure size 432x288 with 1 Axes>"
      ]
     },
     "metadata": {
      "needs_background": "light"
     },
     "output_type": "display_data"
    }
   ],
   "source": [
    "dp.df['isFraud'].plot(kind='hist')"
   ]
  },
  {
   "cell_type": "code",
   "execution_count": 14,
   "metadata": {},
   "outputs": [
    {
     "name": "stdout",
     "output_type": "stream",
     "text": [
      "['PAYMENT' 'TRANSFER' 'CASH_OUT' 'DEBIT' 'CASH_IN']\n"
     ]
    }
   ],
   "source": [
    "dp.print_uniques('type') # categorical encoding will be done on this column"
   ]
  },
  {
   "cell_type": "code",
   "execution_count": 15,
   "metadata": {},
   "outputs": [
    {
     "name": "stdout",
     "output_type": "stream",
     "text": [
      "[ 1  2  3  4  5  6  7  8  9 10 11 12 13 14 15 16 17 18 19 20 21 22 23 24\n",
      " 25 26 27 28 29 30 31 32 33 34 35 36 37 38 39 40 41 42 43 44 45 46 47 48\n",
      " 49 50 51 52 53 54 55 56 57 58 59 60 61 62 63 64 65 66 67 68 69 70 71 72\n",
      " 73 74 75 76 77 78 79 80 81 82 83 84 85 86 87 88 89 90 91 92 93 94 95]\n"
     ]
    }
   ],
   "source": [
    "dp.print_uniques('step')"
   ]
  },
  {
   "cell_type": "code",
   "execution_count": 16,
   "metadata": {},
   "outputs": [
    {
     "data": {
      "image/png": "[encoded data removed]",
      "text/plain": [
       "<Figure size 1080x1080 with 2 Axes>"
      ]
     },
     "metadata": {
      "needs_background": "light"
     },
     "output_type": "display_data"
    }
   ],
   "source": [
    "dp.corr()"
   ]
  },
  {
   "cell_type": "code",
   "execution_count": 17,
   "metadata": {},
   "outputs": [
    {
     "data": {
      "text/plain": [
       "C1214450722    2\n",
       "C309111136     2\n",
       "C1268675361    2\n",
       "C720460198     2\n",
       "C1109092856    2\n",
       "              ..\n",
       "C560131732     1\n",
       "C455251560     1\n",
       "C650578540     1\n",
       "C1883668225    1\n",
       "C1264356443    1\n",
       "Name: nameOrig, Length: 1048317, dtype: int64"
      ]
     },
     "execution_count": 17,
     "metadata": {},
     "output_type": "execute_result"
    }
   ],
   "source": [
    "dp.df['nameOrig'].value_counts() # label encoding will be done on this column"
   ]
  },
  {
   "cell_type": "code",
   "execution_count": 18,
   "metadata": {},
   "outputs": [
    {
     "data": {
      "text/plain": [
       "C985934102     98\n",
       "C1286084959    96\n",
       "C1590550415    89\n",
       "C248609774     88\n",
       "C665576141     87\n",
       "               ..\n",
       "M382871047      1\n",
       "M322765556      1\n",
       "M1118794441     1\n",
       "M1127250627     1\n",
       "M677577406      1\n",
       "Name: nameDest, Length: 449635, dtype: int64"
      ]
     },
     "execution_count": 18,
     "metadata": {},
     "output_type": "execute_result"
    }
   ],
   "source": [
    "dp.df['nameDest'].value_counts()  # label encoding"
   ]
  },
  {
   "cell_type": "code",
   "execution_count": 19,
   "metadata": {},
   "outputs": [
    {
     "name": "stdout",
     "output_type": "stream",
     "text": [
      "{'max': 95, 'min': 1, 'mean': 26.966174093412487, 'median': 20.0, 'mode': 19, 'col_name': 'step'}\n",
      "{'max': 10000000.0, 'min': 0.1, 'mean': 158666.9755271392, 'median': 76343.33, 'mode': 10000000.0, 'col_name': 'amount'}\n",
      "{'max': 38900000.0, 'min': 0.0, 'mean': 874009.544348177, 'median': 16002.0, 'mode': 0.0, 'col_name': 'oldbalanceOrg'}\n",
      "{'max': 38900000.0, 'min': 0.0, 'mean': 893808.8980306699, 'median': 0.0, 'mode': 0.0, 'col_name': 'newbalanceOrig'}\n",
      "{'max': 42100000.0, 'min': 0.0, 'mean': 978160.0492755122, 'median': 126377.21, 'mode': 0.0, 'col_name': 'oldbalanceDest'}\n",
      "{'max': 42200000.0, 'min': 0.0, 'mean': 1114197.9684699522, 'median': 218260.36, 'mode': 0.0, 'col_name': 'newbalanceDest'}\n",
      "{'max': 1, 'min': 0, 'mean': 0.0010890971079798775, 'median': 0.0, 'mode': 0, 'col_name': 'isFraud'}\n"
     ]
    }
   ],
   "source": [
    "# printing columns having numerical values' stat\n",
    "for col in dp.df.columns:\n",
    "    if dp.df[col].dtypes == np.int64 or dp.df[col].dtypes == np.float64:\n",
    "        print(dp.stat(col))"
   ]
  },
  {
   "cell_type": "code",
   "execution_count": 20,
   "metadata": {},
   "outputs": [],
   "source": [
    "# feature engineering\n",
    "dp.df['step'] = 60*dp.df['step']"
   ]
  },
  {
   "cell_type": "code",
   "execution_count": 21,
   "metadata": {},
   "outputs": [],
   "source": [
    "# feature engineering\n",
    "dp.df['sender_to_receiver'] = np.abs(dp.df['oldbalanceOrg'] - dp.df['newbalanceOrig'] ) / ( ( dp.df['newbalanceDest'] - dp.df['oldbalanceDest'] ) + dp.df['amount'].min() )"
   ]
  },
  {
   "cell_type": "code",
   "execution_count": 22,
   "metadata": {},
   "outputs": [],
   "source": [
    "# feature engineering\n",
    "dp.df['step_amt_relation'] = (dp.df['step']/dp.df['step'].max()) * dp.df['amount']"
   ]
  },
  {
   "cell_type": "code",
   "execution_count": 23,
   "metadata": {},
   "outputs": [],
   "source": [
    "le_encode_list = ['nameDest', 'nameOrig'] # list of columns to encode"
   ]
  },
  {
   "cell_type": "code",
   "execution_count": 24,
   "metadata": {},
   "outputs": [
    {
     "name": "stdout",
     "output_type": "stream",
     "text": [
      "Encoding done\n"
     ]
    }
   ],
   "source": [
    "dp.encoder(le_encode_list) # calling the encoder function"
   ]
  },
  {
   "cell_type": "code",
   "execution_count": 25,
   "metadata": {},
   "outputs": [
    {
     "name": "stdout",
     "output_type": "stream",
     "text": [
      "OneHot done\n"
     ]
    }
   ],
   "source": [
    "dp.onehot_encode(['type']) # calling the encoder func for onehot encoding"
   ]
  },
  {
   "cell_type": "code",
   "execution_count": 26,
   "metadata": {},
   "outputs": [],
   "source": [
    "dp.df['sender_to_receiver'] = dp.df['sender_to_receiver'].fillna(0) # filling null fields"
   ]
  },
  {
   "cell_type": "code",
   "execution_count": 27,
   "metadata": {},
   "outputs": [
    {
     "data": {
      "image/png": "[encoded data removed]",
      "text/plain": [
       "<Figure size 1080x1080 with 2 Axes>"
      ]
     },
     "metadata": {
      "needs_background": "light"
     },
     "output_type": "display_data"
    }
   ],
   "source": [
    "dp.heat_map()"
   ]
  },
  {
   "cell_type": "code",
   "execution_count": 28,
   "metadata": {},
   "outputs": [
    {
     "data": {
      "text/html": [
       "<div>\n",
       "<style scoped>\n",
       "    .dataframe tbody tr th:only-of-type {\n",
       "        vertical-align: middle;\n",
       "    }\n",
       "\n",
       "    .dataframe tbody tr th {\n",
       "        vertical-align: top;\n",
       "    }\n",
       "\n",
       "    .dataframe thead th {\n",
       "        text-align: right;\n",
       "    }\n",
       "</style>\n",
       "<table border=\"1\" class=\"dataframe\">\n",
       "  <thead>\n",
       "    <tr style=\"text-align: right;\">\n",
       "      <th></th>\n",
       "      <th>step</th>\n",
       "      <th>amount</th>\n",
       "      <th>nameOrig</th>\n",
       "      <th>oldbalanceOrg</th>\n",
       "      <th>newbalanceOrig</th>\n",
       "      <th>nameDest</th>\n",
       "      <th>oldbalanceDest</th>\n",
       "      <th>newbalanceDest</th>\n",
       "      <th>isFraud</th>\n",
       "      <th>sender_to_receiver</th>\n",
       "      <th>step_amt_relation</th>\n",
       "      <th>type_CASH_IN</th>\n",
       "      <th>type_CASH_OUT</th>\n",
       "      <th>type_DEBIT</th>\n",
       "      <th>type_PAYMENT</th>\n",
       "      <th>type_TRANSFER</th>\n",
       "    </tr>\n",
       "  </thead>\n",
       "  <tbody>\n",
       "    <tr>\n",
       "      <th>0</th>\n",
       "      <td>60</td>\n",
       "      <td>9839.64</td>\n",
       "      <td>125164</td>\n",
       "      <td>170136.0</td>\n",
       "      <td>160296.36</td>\n",
       "      <td>274917</td>\n",
       "      <td>0.0</td>\n",
       "      <td>0.0</td>\n",
       "      <td>0</td>\n",
       "      <td>98396.400000</td>\n",
       "      <td>103.575158</td>\n",
       "      <td>0</td>\n",
       "      <td>0</td>\n",
       "      <td>0</td>\n",
       "      <td>1</td>\n",
       "      <td>0</td>\n",
       "    </tr>\n",
       "    <tr>\n",
       "      <th>1</th>\n",
       "      <td>60</td>\n",
       "      <td>1864.28</td>\n",
       "      <td>361319</td>\n",
       "      <td>21249.0</td>\n",
       "      <td>19384.72</td>\n",
       "      <td>286716</td>\n",
       "      <td>0.0</td>\n",
       "      <td>0.0</td>\n",
       "      <td>0</td>\n",
       "      <td>18642.800000</td>\n",
       "      <td>19.624000</td>\n",
       "      <td>0</td>\n",
       "      <td>0</td>\n",
       "      <td>0</td>\n",
       "      <td>1</td>\n",
       "      <td>0</td>\n",
       "    </tr>\n",
       "    <tr>\n",
       "      <th>2</th>\n",
       "      <td>60</td>\n",
       "      <td>181.00</td>\n",
       "      <td>165236</td>\n",
       "      <td>181.0</td>\n",
       "      <td>0.00</td>\n",
       "      <td>73550</td>\n",
       "      <td>0.0</td>\n",
       "      <td>0.0</td>\n",
       "      <td>1</td>\n",
       "      <td>1810.000000</td>\n",
       "      <td>1.905263</td>\n",
       "      <td>0</td>\n",
       "      <td>0</td>\n",
       "      <td>0</td>\n",
       "      <td>0</td>\n",
       "      <td>1</td>\n",
       "    </tr>\n",
       "    <tr>\n",
       "      <th>3</th>\n",
       "      <td>60</td>\n",
       "      <td>181.00</td>\n",
       "      <td>961662</td>\n",
       "      <td>181.0</td>\n",
       "      <td>0.00</td>\n",
       "      <td>65464</td>\n",
       "      <td>21182.0</td>\n",
       "      <td>0.0</td>\n",
       "      <td>1</td>\n",
       "      <td>-0.008545</td>\n",
       "      <td>1.905263</td>\n",
       "      <td>0</td>\n",
       "      <td>1</td>\n",
       "      <td>0</td>\n",
       "      <td>0</td>\n",
       "      <td>0</td>\n",
       "    </tr>\n",
       "    <tr>\n",
       "      <th>4</th>\n",
       "      <td>60</td>\n",
       "      <td>11668.14</td>\n",
       "      <td>567915</td>\n",
       "      <td>41554.0</td>\n",
       "      <td>29885.86</td>\n",
       "      <td>138001</td>\n",
       "      <td>0.0</td>\n",
       "      <td>0.0</td>\n",
       "      <td>0</td>\n",
       "      <td>116681.400000</td>\n",
       "      <td>122.822526</td>\n",
       "      <td>0</td>\n",
       "      <td>0</td>\n",
       "      <td>0</td>\n",
       "      <td>1</td>\n",
       "      <td>0</td>\n",
       "    </tr>\n",
       "  </tbody>\n",
       "</table>\n",
       "</div>"
      ],
      "text/plain": [
       "   step    amount  nameOrig  oldbalanceOrg  newbalanceOrig  nameDest  \\\n",
       "0    60   9839.64    125164       170136.0       160296.36    274917   \n",
       "1    60   1864.28    361319        21249.0        19384.72    286716   \n",
       "2    60    181.00    165236          181.0            0.00     73550   \n",
       "3    60    181.00    961662          181.0            0.00     65464   \n",
       "4    60  11668.14    567915        41554.0        29885.86    138001   \n",
       "\n",
       "   oldbalanceDest  newbalanceDest  isFraud  sender_to_receiver  \\\n",
       "0             0.0             0.0        0        98396.400000   \n",
       "1             0.0             0.0        0        18642.800000   \n",
       "2             0.0             0.0        1         1810.000000   \n",
       "3         21182.0             0.0        1           -0.008545   \n",
       "4             0.0             0.0        0       116681.400000   \n",
       "\n",
       "   step_amt_relation  type_CASH_IN  type_CASH_OUT  type_DEBIT  type_PAYMENT  \\\n",
       "0         103.575158             0              0           0             1   \n",
       "1          19.624000             0              0           0             1   \n",
       "2           1.905263             0              0           0             0   \n",
       "3           1.905263             0              1           0             0   \n",
       "4         122.822526             0              0           0             1   \n",
       "\n",
       "   type_TRANSFER  \n",
       "0              0  \n",
       "1              0  \n",
       "2              1  \n",
       "3              0  \n",
       "4              0  "
      ]
     },
     "execution_count": 28,
     "metadata": {},
     "output_type": "execute_result"
    }
   ],
   "source": [
    "dp.df.head()"
   ]
  },
  {
   "cell_type": "code",
   "execution_count": 29,
   "metadata": {},
   "outputs": [
    {
     "name": "stdout",
     "output_type": "stream",
     "text": [
      "<class 'pandas.core.series.Series'>\n",
      "RangeIndex: 1048575 entries, 0 to 1048574\n",
      "Series name: sender_to_receiver\n",
      "Non-Null Count    Dtype  \n",
      "--------------    -----  \n",
      "1048575 non-null  float64\n",
      "dtypes: float64(1)\n",
      "memory usage: 8.0 MB\n"
     ]
    }
   ],
   "source": [
    "dp.df['sender_to_receiver'].info()"
   ]
  },
  {
   "cell_type": "code",
   "execution_count": 30,
   "metadata": {},
   "outputs": [
    {
     "name": "stderr",
     "output_type": "stream",
     "text": [
      "/tmp/ipykernel_16538/2128722427.py:103: FutureWarning: In a future version of pandas all arguments of DataFrame.drop except for the argument 'labels' will be keyword-only.\n",
      "  train_x = train.drop('isFraud',1)\n",
      "/tmp/ipykernel_16538/2128722427.py:109: FutureWarning: In a future version of pandas all arguments of DataFrame.drop except for the argument 'labels' will be keyword-only.\n",
      "  test_x = test.drop('isFraud',1)\n"
     ]
    }
   ],
   "source": [
    "dp.split_data(0.65) # spliting data for 65%train"
   ]
  },
  {
   "cell_type": "code",
   "execution_count": 31,
   "metadata": {},
   "outputs": [],
   "source": [
    "train_x, train_y = dp.data('train') # getting the train data"
   ]
  },
  {
   "cell_type": "code",
   "execution_count": 32,
   "metadata": {},
   "outputs": [],
   "source": [
    "test_x, test_y = dp.data('test') # getting the test data\n",
    "\n",
    "# test_y.reshape(1,-1)\n",
    "# train_y.reshape(1,-1)"
   ]
  },
  {
   "cell_type": "code",
   "execution_count": 33,
   "metadata": {},
   "outputs": [
    {
     "data": {
      "text/plain": [
       "(681574, 681574)"
      ]
     },
     "execution_count": 33,
     "metadata": {},
     "output_type": "execute_result"
    }
   ],
   "source": [
    "len(train_x), len(train_y)"
   ]
  },
  {
   "cell_type": "code",
   "execution_count": 34,
   "metadata": {},
   "outputs": [
    {
     "data": {
      "text/plain": [
       "(367001, 367001)"
      ]
     },
     "execution_count": 34,
     "metadata": {},
     "output_type": "execute_result"
    }
   ],
   "source": [
    "len(test_x), len(test_y)"
   ]
  },
  {
   "cell_type": "code",
   "execution_count": 35,
   "metadata": {},
   "outputs": [],
   "source": [
    "# python class to train\n",
    "class Model():\n",
    "    def __init__(self, x_train, x_test, y_train, y_test):\n",
    "        self.x_train = x_train\n",
    "        self.x_test = x_test\n",
    "        self.y_train = y_train\n",
    "        self.y_test = y_test\n",
    "    def ml_model(self, model):\n",
    "        self.model = model\n",
    "        model.fit(self.x_train, self.y_train)\n",
    "        pred_train = model.predict(self.x_train)\n",
    "        pred_test = model.predict(self.x_test)\n",
    "        test_score = accuracy_score(self.y_test, pred_test) * 100 \n",
    "        train_score = accuracy_score(self.y_train, pred_train )*100\n",
    "        \n",
    "        accuracy = dict()\n",
    "        accuracy['Training'] = train_score\n",
    "        accuracy['Testing'] = test_score\n",
    "        \n",
    "        return accuracy"
   ]
  },
  {
   "cell_type": "code",
   "execution_count": 36,
   "metadata": {},
   "outputs": [],
   "source": [
    "# models to train\n",
    "gb = GradientBoostingClassifier(n_estimators=140, random_state=160, max_depth=3, learning_rate=0.08, subsample=0.2)\n",
    "lr = LogisticRegression()\n",
    "xgbC = xgb.XGBClassifier(n_estimators=2100, random_state=160, subsample=0.7, reg_lambda=80, max_depth=9, learning_rate=0.05)"
   ]
  },
  {
   "cell_type": "code",
   "execution_count": 37,
   "metadata": {},
   "outputs": [],
   "source": [
    "# initializing the model class\n",
    "CopfdModel = Model(train_x, test_x, train_y, test_y)"
   ]
  },
  {
   "cell_type": "code",
   "execution_count": 38,
   "metadata": {},
   "outputs": [
    {
     "data": {
      "text/plain": [
       "step                  0\n",
       "amount                0\n",
       "nameOrig              0\n",
       "oldbalanceOrg         0\n",
       "newbalanceOrig        0\n",
       "nameDest              0\n",
       "oldbalanceDest        0\n",
       "newbalanceDest        0\n",
       "sender_to_receiver    0\n",
       "step_amt_relation     0\n",
       "type_CASH_IN          0\n",
       "type_CASH_OUT         0\n",
       "type_DEBIT            0\n",
       "type_PAYMENT          0\n",
       "type_TRANSFER         0\n",
       "dtype: int64"
      ]
     },
     "execution_count": 38,
     "metadata": {},
     "output_type": "execute_result"
    }
   ],
   "source": [
    "train_x[train_x == np.inf].count()"
   ]
  },
  {
   "cell_type": "code",
   "execution_count": 39,
   "metadata": {},
   "outputs": [
    {
     "name": "stderr",
     "output_type": "stream",
     "text": [
      "/home/hameed/.local/lib/python3.10/site-packages/sklearn/linear_model/_logistic.py:444: ConvergenceWarning: lbfgs failed to converge (status=1):\n",
      "STOP: TOTAL NO. of ITERATIONS REACHED LIMIT.\n",
      "\n",
      "Increase the number of iterations (max_iter) or scale the data as shown in:\n",
      "    https://scikit-learn.org/stable/modules/preprocessing.html\n",
      "Please also refer to the documentation for alternative solver options:\n",
      "    https://scikit-learn.org/stable/modules/linear_model.html#logistic-regression\n",
      "  n_iter_i = _check_optimize_result(\n"
     ]
    },
    {
     "data": {
      "text/plain": [
       "{'Training': 99.95891862072203, 'Testing': 99.91253429827167}"
      ]
     },
     "execution_count": 39,
     "metadata": {},
     "output_type": "execute_result"
    }
   ],
   "source": [
    "CopfdModel.ml_model(lr)"
   ]
  },
  {
   "cell_type": "code",
   "execution_count": 40,
   "metadata": {},
   "outputs": [],
   "source": [
    "# training gradient boosted machines\n",
    "CopfdModel.ml_model(gb)"
   ]
  },
  {
   "cell_type": "code",
   "execution_count": 41,
   "metadata": {},
   "outputs": [],
   "source": [
    "# training extreem gradient boosted machines\n",
    "CopfdModel.ml_model(xgbC)"
   ]
  },
  {
   "cell_type": "code",
   "execution_count": 42,
   "metadata": {},
   "outputs": [],
   "source": [
    "# x = train_x\n",
    "# x = x.append(test_x)\n",
    "\n",
    "# y = train_y\n",
    "# y = y.append(test_y)"
   ]
  },
  {
   "cell_type": "code",
   "execution_count": 43,
   "metadata": {},
   "outputs": [
    {
     "name": "stderr",
     "output_type": "stream",
     "text": [
      "/tmp/ipykernel_16538/2789390459.py:1: FutureWarning: In a future version of pandas all arguments of DataFrame.drop except for the argument 'labels' will be keyword-only.\n",
      "  x = dp.df.drop('isFraud',1)\n"
     ]
    }
   ],
   "source": [
    "x = dp.df.drop('isFraud',1)\n",
    "y = dp.df['isFraud']"
   ]
  },
  {
   "cell_type": "code",
   "execution_count": 53,
   "metadata": {},
   "outputs": [
    {
     "name": "stdout",
     "output_type": "stream",
     "text": [
      "[      0       1       2 ... 1048572 1048573 1048574] [     37      42      45 ... 1048555 1048561 1048566]\n"
     ]
    }
   ],
   "source": [
    "# performing cross validation with kfold\n",
    "score_xgb = list()\n",
    "score_gb = list()\n",
    "score_lr = list()\n",
    "\n",
    "\n",
    "for train_index, test_index in folds.split(x,y):\n",
    "    x_train,x_test,y_train,y_test = x.iloc[train_index], x.iloc[test_index], y.iloc[train_index], y.iloc[test_index]\n",
    "    CopfdModel_cv = Model(x_train, x_test, y_train, y_test)\n",
    "    score_gb.append(CopfdModel_cv.ml_model(gb))\n",
    "    score_lr.append(CopfdModel_cv.ml_model(lr))\n",
    "    score_xgb.append(CopfdModel_cv.ml_model(xgbC))\n",
    "    \n"
   ]
  },
  {
   "cell_type": "code",
   "execution_count": 1,
   "metadata": {},
   "outputs": [
    {
     "ename": "NameError",
     "evalue": "name 'score_xgb' is not defined",
     "output_type": "error",
     "traceback": [
      "\u001b[0;31m---------------------------------------------------------------------------\u001b[0m",
      "\u001b[0;31mNameError\u001b[0m                                 Traceback (most recent call last)",
      "\u001b[1;32m/home/hameed/Desktop/DS/cppfd.ipynb Cell 42'\u001b[0m in \u001b[0;36m<cell line: 1>\u001b[0;34m()\u001b[0m\n\u001b[0;32m----> <a href='vscode-notebook-cell:/home/hameed/Desktop/DS/cppfd.ipynb#ch0000045?line=0'>1</a>\u001b[0m score_xgb\n",
      "\u001b[0;31mNameError\u001b[0m: name 'score_xgb' is not defined"
     ]
    }
   ],
   "source": [
    "score_xgb[0]['Training'].mean(), score_xgb[0]['Testing'].mean()"
   ]
  },
  {
   "cell_type": "code",
   "execution_count": 2,
   "metadata": {},
   "outputs": [
    {
     "ename": "NameError",
     "evalue": "name 'score_gb' is not defined",
     "output_type": "error",
     "traceback": [
      "\u001b[0;31m---------------------------------------------------------------------------\u001b[0m",
      "\u001b[0;31mNameError\u001b[0m                                 Traceback (most recent call last)",
      "\u001b[1;32m/home/hameed/Desktop/DS/cppfd.ipynb Cell 43'\u001b[0m in \u001b[0;36m<cell line: 1>\u001b[0;34m()\u001b[0m\n\u001b[0;32m----> <a href='vscode-notebook-cell:/home/hameed/Desktop/DS/cppfd.ipynb#ch0000046?line=0'>1</a>\u001b[0m score_gb[\u001b[39m0\u001b[39m][\u001b[39m'\u001b[39m\u001b[39mTraining\u001b[39m\u001b[39m'\u001b[39m]\u001b[39m.\u001b[39mmean(), score_gb[\u001b[39m0\u001b[39m][\u001b[39m'\u001b[39m\u001b[39mTesting\u001b[39m\u001b[39m'\u001b[39m]\u001b[39m.\u001b[39mmean()\n",
      "\u001b[0;31mNameError\u001b[0m: name 'score_gb' is not defined"
     ]
    }
   ],
   "source": [
    "score_gb[0]['Training'].mean(), score_gb[0]['Testing'].mean()"
   ]
  },
  {
   "cell_type": "code",
   "execution_count": 3,
   "metadata": {},
   "outputs": [
    {
     "ename": "NameError",
     "evalue": "name 'score_lr' is not defined",
     "output_type": "error",
     "traceback": [
      "\u001b[0;31m---------------------------------------------------------------------------\u001b[0m",
      "\u001b[0;31mNameError\u001b[0m                                 Traceback (most recent call last)",
      "\u001b[1;32m/home/hameed/Desktop/DS/cppfd.ipynb Cell 44'\u001b[0m in \u001b[0;36m<cell line: 1>\u001b[0;34m()\u001b[0m\n\u001b[0;32m----> <a href='vscode-notebook-cell:/home/hameed/Desktop/DS/cppfd.ipynb#ch0000047?line=0'>1</a>\u001b[0m score_lr[\u001b[39m0\u001b[39m][\u001b[39m'\u001b[39m\u001b[39mTraining\u001b[39m\u001b[39m'\u001b[39m]\u001b[39m.\u001b[39mmean(), score_lr[\u001b[39m0\u001b[39m][\u001b[39m'\u001b[39m\u001b[39mTesting\u001b[39m\u001b[39m'\u001b[39m]\u001b[39m.\u001b[39mmean()\n",
      "\u001b[0;31mNameError\u001b[0m: name 'score_lr' is not defined"
     ]
    }
   ],
   "source": [
    "score_lr[0]['Training'].mean(), score_lr[0]['Testing'].mean()"
   ]
  },
  {
   "cell_type": "code",
   "execution_count": null,
   "metadata": {},
   "outputs": [],
   "source": []
  }
 ],
 "metadata": {
  "interpreter": {
   "hash": "31f2aee4e71d21fbe5cf8b01ff0e069b9275f58929596ceb00d14d90e3e16cd6"
  },
  "kernelspec": {
   "display_name": "Python 3.10.4 64-bit",
   "language": "python",
   "name": "python3"
  },
  "language_info": {
   "codemirror_mode": {
    "name": "ipython",
    "version": 3
   },
   "file_extension": ".py",
   "mimetype": "text/x-python",
   "name": "python",
   "nbconvert_exporter": "python",
   "pygments_lexer": "ipython3",
   "version": "3.10.4"
  },
  "orig_nbformat": 4
 },
 "nbformat": 4,
 "nbformat_minor": 2
}
